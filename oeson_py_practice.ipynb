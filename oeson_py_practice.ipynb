{
  "nbformat": 4,
  "nbformat_minor": 0,
  "metadata": {
    "colab": {
      "provenance": [],
      "authorship_tag": "ABX9TyN/HUS+ekeXAEcNd0o6/qU4",
      "include_colab_link": true
    },
    "kernelspec": {
      "name": "python3",
      "display_name": "Python 3"
    },
    "language_info": {
      "name": "python"
    }
  },
  "cells": [
    {
      "cell_type": "markdown",
      "metadata": {
        "id": "view-in-github",
        "colab_type": "text"
      },
      "source": [
        "<a href=\"https://colab.research.google.com/github/atakanerdogn/OESON/blob/main/oeson_py_practice.ipynb\" target=\"_parent\"><img src=\"https://colab.research.google.com/assets/colab-badge.svg\" alt=\"Open In Colab\"/></a>"
      ]
    },
    {
      "cell_type": "code",
      "execution_count": null,
      "metadata": {
        "colab": {
          "base_uri": "https://localhost:8080/"
        },
        "id": "ys2wb6kBh3Ju",
        "outputId": "f343a9f1-acfc-48a1-f453-48f43fe57e54"
      },
      "outputs": [
        {
          "output_type": "stream",
          "name": "stdout",
          "text": [
            "Enter a number421\n",
            "The number is odd\n"
          ]
        }
      ],
      "source": [
        "#1+ find even or odd\n",
        "\n",
        "num = int(input(\"Enter a number: \"))\n",
        "if num % 2 == 0:\n",
        "  print(\"The number is even\")\n",
        "else:\n",
        "  print(\"The number is odd\")"
      ]
    },
    {
      "cell_type": "code",
      "source": [
        "#2+ given 3 numbers, find the largest among them\n",
        "\n",
        "num1 = int(input(\"Enter the first: \"))\n",
        "num2 = int(input(\"Enter the second: \"))\n",
        "num3 = int(input(\"Enter the third: \"))\n",
        "\n",
        "if num1 > num2 and num1 > num3:\n",
        "  print(\"The largest number is\", num1)\n",
        "\n",
        "elif num2 > num1 and num2 > num3:\n",
        "  print(\"The largest number is\", num2)\n",
        "\n",
        "else:\n",
        "  print(\"The largest number is\", num3)"
      ],
      "metadata": {
        "colab": {
          "base_uri": "https://localhost:8080/"
        },
        "id": "RI1okyT6iiGQ",
        "outputId": "0bb8b055-1699-41c5-ed76-5dd73d4a0d60"
      },
      "execution_count": null,
      "outputs": [
        {
          "output_type": "stream",
          "name": "stdout",
          "text": [
            "Enter the first: 2\n",
            "Enter the second: 3\n",
            "Enter the third: 4\n",
            "The largest number is 4\n"
          ]
        }
      ]
    },
    {
      "cell_type": "code",
      "source": [
        "#3+ find leap year\n",
        "\n",
        "year = int(input(\"Enter a year: \"))\n",
        "if year % 4 == 0:\n",
        "  print(\"The year is leap year\")\n",
        "elif year % 100 == 0:\n",
        "    print(\"The year is not leap year\")\n",
        "elif year % 400 == 0:\n",
        "      print(\"The year is leap year\")\n",
        "else:\n",
        "      print(\"The year is not leap year\")\n"
      ],
      "metadata": {
        "colab": {
          "base_uri": "https://localhost:8080/"
        },
        "id": "MevrhzJRi80u",
        "outputId": "29ee0fbc-0f06-48be-8125-6f7a94381422"
      },
      "execution_count": null,
      "outputs": [
        {
          "output_type": "stream",
          "name": "stdout",
          "text": [
            "Enter a year: 2914\n",
            "The year is not leap year\n"
          ]
        }
      ]
    },
    {
      "cell_type": "code",
      "source": [
        "#4+ ask user the age and check if they are eligible to vote\n",
        "\n",
        "age = int(input(\"How old are you: \"))\n",
        "\n",
        "if age >= 18:\n",
        "  print(\"You're eligble to vote\")\n",
        "else:\n",
        "  print(\"You are not eligble\")"
      ],
      "metadata": {
        "colab": {
          "base_uri": "https://localhost:8080/"
        },
        "id": "pLyUfIZEjXLM",
        "outputId": "aab7fde6-1c0f-41f3-d01e-9e365420b16d"
      },
      "execution_count": null,
      "outputs": [
        {
          "output_type": "stream",
          "name": "stdout",
          "text": [
            "How old are you: 18\n",
            "You're eligble to vote\n"
          ]
        }
      ]
    },
    {
      "cell_type": "code",
      "source": [
        "#5+ cold <15 moderate 15-30 hot >30\n",
        "\n",
        "T = int(input(\"Enter the temperature: \"))\n",
        "\n",
        "if T < 15:\n",
        "  print(\"Cold\")\n",
        "elif T<30 and T>15:\n",
        "  print(\"moderate\")\n",
        "else:\n",
        "  print(\"hot\")"
      ],
      "metadata": {
        "colab": {
          "base_uri": "https://localhost:8080/"
        },
        "id": "4pf1ctYXkNnb",
        "outputId": "13f8d6fc-6773-4964-ee4e-679b4db67d77"
      },
      "execution_count": null,
      "outputs": [
        {
          "output_type": "stream",
          "name": "stdout",
          "text": [
            "Enter the temperature: 5\n",
            "Cold\n"
          ]
        }
      ]
    },
    {
      "cell_type": "code",
      "source": [
        "#6+ all even numbers 1-50 using for loop\n",
        "while True:\n",
        " for num in range(1,50):\n",
        "   if num % 2 == 0:\n",
        "     print(f'{num}')\n",
        "   else:\n",
        "    continue\n",
        " break"
      ],
      "metadata": {
        "colab": {
          "base_uri": "https://localhost:8080/"
        },
        "collapsed": true,
        "id": "f4QfUkNakuZQ",
        "outputId": "197b7329-26ce-4bf1-9595-2a9c80ad55c6"
      },
      "execution_count": null,
      "outputs": [
        {
          "output_type": "stream",
          "name": "stdout",
          "text": [
            "2\n",
            "4\n",
            "6\n",
            "8\n",
            "10\n",
            "12\n",
            "14\n",
            "16\n",
            "18\n",
            "20\n",
            "22\n",
            "24\n",
            "26\n",
            "28\n",
            "30\n",
            "32\n",
            "34\n",
            "36\n",
            "38\n",
            "40\n",
            "42\n",
            "44\n",
            "46\n",
            "48\n"
          ]
        }
      ]
    },
    {
      "cell_type": "code",
      "source": [
        "#7+ takes number and prints multiplication table\n",
        "num = int(input(\"n: \"))\n",
        "for i in range(1,11):\n",
        " print(f\"{num} x {i} = {num*i}\")"
      ],
      "metadata": {
        "colab": {
          "base_uri": "https://localhost:8080/"
        },
        "id": "R9wO1rjklhhu",
        "outputId": "ea347ee4-a991-4c34-b3f8-9a41104ff4fa"
      },
      "execution_count": null,
      "outputs": [
        {
          "output_type": "stream",
          "name": "stdout",
          "text": [
            "n: 3\n",
            "3 x 1 = 3\n",
            "3 x 2 = 6\n",
            "3 x 3 = 9\n",
            "3 x 4 = 12\n",
            "3 x 5 = 15\n",
            "3 x 6 = 18\n",
            "3 x 7 = 21\n",
            "3 x 8 = 24\n",
            "3 x 9 = 27\n",
            "3 x 10 = 30\n"
          ]
        }
      ]
    },
    {
      "cell_type": "code",
      "source": [
        "#8+ input n, sum of numbers to n\n",
        "\n",
        "n = int(input(\"enter n: \"))\n",
        "sum = n * (n-1) / 2\n",
        "print(\"Sum = \", sum)"
      ],
      "metadata": {
        "colab": {
          "base_uri": "https://localhost:8080/"
        },
        "id": "5ZCecjs7lw5h",
        "outputId": "689868f6-27cc-40d1-abb5-7d5fb7c4d1b1"
      },
      "execution_count": null,
      "outputs": [
        {
          "output_type": "stream",
          "name": "stdout",
          "text": [
            "enter n: 3\n",
            "Sum =  3.0\n"
          ]
        }
      ]
    },
    {
      "cell_type": "code",
      "source": [
        "#9+ ask a user to enter numbers, till they enter -1, then sum (tam exact degil, )\n",
        "sum = 0\n",
        "while True:\n",
        " num = int(input(\"enter numbers: \"))\n",
        " if num == -1:\n",
        "  print(\"BREAK!\")\n",
        "  break\n",
        " sum = num + sum\n",
        " if sum > 0:\n",
        "  print(\"Sum is\",sum)\n",
        "\n",
        "\n",
        "\n"
      ],
      "metadata": {
        "colab": {
          "base_uri": "https://localhost:8080/"
        },
        "id": "EQ_fgUp0l5NM",
        "outputId": "d29eb418-bf51-4d9f-bb6f-a6ef8213f33a"
      },
      "execution_count": null,
      "outputs": [
        {
          "output_type": "stream",
          "name": "stdout",
          "text": [
            "enter numbers: 123\n",
            "Sum is 123\n",
            "enter numbers: 1245\n",
            "Sum is 1368\n",
            "enter numbers: -1\n",
            "BREAK!\n"
          ]
        }
      ]
    },
    {
      "cell_type": "code",
      "source": [
        "#10 fibonacci till n given by user\n",
        "\n",
        "a = 0\n",
        "b = 1\n",
        "\n",
        "num = int(input(\"enter num: \"))\n",
        "\n",
        "while b < num:\n",
        " print(b)\n",
        " c = a + b\n",
        " a = b\n",
        " b = c\n",
        "\n",
        "\n",
        "##################################################\n",
        "\n",
        "\n",
        "\n",
        "\n",
        "\n",
        "\n"
      ],
      "metadata": {
        "colab": {
          "base_uri": "https://localhost:8080/"
        },
        "collapsed": true,
        "id": "K5zOUF7hmEnl",
        "outputId": "3e04822c-e6be-4e24-a31d-d4813424b35f"
      },
      "execution_count": 7,
      "outputs": [
        {
          "output_type": "stream",
          "name": "stdout",
          "text": [
            "enter num: 10\n",
            "1\n",
            "1\n",
            "2\n",
            "3\n",
            "5\n",
            "8\n"
          ]
        }
      ]
    },
    {
      "cell_type": "code",
      "source": [
        "#11+ login system,three attempts if false password print access denied\n",
        " ################################################################\n",
        "\n",
        "password = 1234\n",
        "attempts = 3\n",
        "\n",
        "while True:\n",
        " if guess != 1234:\n",
        "  attempts = attempts - 1\n",
        "\n",
        " guess = int(input(\"Enter password: \"))\n",
        "\n",
        " if guess == 1234:\n",
        "  print(\"Correct\")\n",
        " else:\n",
        "  print(\"Try again\")\n",
        "  print(f'You have {attempts} attempts left!')\n",
        "  ###\n",
        "  if attempts == 0:\n",
        "   print(\"game over! no more guesses!\")\n",
        "   print(\"Exiting\")\n",
        "   break\n",
        "\n",
        "\n",
        "\n"
      ],
      "metadata": {
        "colab": {
          "base_uri": "https://localhost:8080/"
        },
        "id": "qYKazdJ7mImy",
        "outputId": "7eeeccee-ef78-4c2a-d459-6bd7e30dd33c"
      },
      "execution_count": null,
      "outputs": [
        {
          "output_type": "stream",
          "name": "stdout",
          "text": [
            "Enter password: 1234\n",
            "Correct\n",
            "Enter password: 1234\n",
            "Correct\n",
            "Enter password: 1235\n",
            "Try again\n",
            "You have 2 attempts left!\n",
            "Enter password: 1236\n",
            "Try again\n",
            "You have 1 attempts left!\n",
            "Enter password: 1237\n",
            "Try again\n",
            "You have 0 attempts left!\n",
            "game over! no more guesses!\n",
            "Exiting\n"
          ]
        }
      ]
    },
    {
      "cell_type": "code",
      "source": [
        "#12+ find all prime numbers 1-100 using loops\n",
        "\n",
        "prime1 = 1\n",
        "prime2 = 100\n",
        "for num in range(prime1, prime2 + 1):\n",
        "   if num > 1:\n",
        "       for i in range(2, num):\n",
        "           if (num % i) == 0:\n",
        "               break\n",
        "       else:\n",
        "           print(num)\n",
        "\n",
        "\n",
        "\n"
      ],
      "metadata": {
        "collapsed": true,
        "id": "7YrENeY6mO-Z",
        "colab": {
          "base_uri": "https://localhost:8080/"
        },
        "outputId": "4f9127c1-43f5-4288-ac50-b26ac0782a4c"
      },
      "execution_count": 9,
      "outputs": [
        {
          "output_type": "stream",
          "name": "stdout",
          "text": [
            "2\n",
            "3\n",
            "5\n",
            "7\n",
            "11\n",
            "13\n",
            "17\n",
            "19\n",
            "23\n",
            "29\n",
            "31\n",
            "37\n",
            "41\n",
            "43\n",
            "47\n",
            "53\n",
            "59\n",
            "61\n",
            "67\n",
            "71\n",
            "73\n",
            "79\n",
            "83\n",
            "89\n",
            "97\n"
          ]
        }
      ]
    },
    {
      "cell_type": "code",
      "source": [
        "#13+ count the digits\n",
        "\n",
        "count = 0\n",
        "num = int(input(\"enter number: \"))\n",
        "while num > 0:\n",
        " num = num // 10\n",
        " count += 1\n",
        "print(\"digits = \", count)"
      ],
      "metadata": {
        "colab": {
          "base_uri": "https://localhost:8080/"
        },
        "id": "iKdNLmb9zbpP",
        "outputId": "f56b08ea-5854-4444-e533-247221b48f22"
      },
      "execution_count": 2,
      "outputs": [
        {
          "output_type": "stream",
          "name": "stdout",
          "text": [
            "enter number: 123456\n",
            "digits =  6\n"
          ]
        }
      ]
    },
    {
      "cell_type": "code",
      "source": [
        "#14+ ask a user to enter numbers till they enter a non numeric value then error message\n",
        "\n",
        "try:\n",
        " while True:\n",
        "  num = int(input(\"Enter numbers: \"))\n",
        "except:\n",
        "  num =! type('int')\n",
        "  print(\"You have entered a non integer value\")"
      ],
      "metadata": {
        "colab": {
          "base_uri": "https://localhost:8080/"
        },
        "id": "_l5aDWCYmdGt",
        "outputId": "66a7a293-18b8-443a-fd2b-e1ad65ee4053"
      },
      "execution_count": null,
      "outputs": [
        {
          "output_type": "stream",
          "name": "stdout",
          "text": [
            "Enter numbers: 12\n",
            "Enter numbers: 0\n",
            "Enter numbers: 124\n",
            "Enter numbers: l\n",
            "You have entered a non integer value\n"
          ]
        }
      ]
    },
    {
      "cell_type": "code",
      "source": [
        "#15+ zero division error, error message instead of crashing\n",
        "try:\n",
        " a = int(input(\"enter a: \"))\n",
        " b = int(input(\"enter b: \"))\n",
        " division = a / b\n",
        " print(division)\n",
        "except:\n",
        "  if b == 0:\n",
        "    print(\"WARNING! Zero division error!\")\n",
        "\n"
      ],
      "metadata": {
        "colab": {
          "base_uri": "https://localhost:8080/"
        },
        "id": "x4MH8_XTmr-e",
        "outputId": "1a973926-6cab-4567-fcb5-1cffe3f662a4"
      },
      "execution_count": null,
      "outputs": [
        {
          "output_type": "stream",
          "name": "stdout",
          "text": [
            "enter a: 12\n",
            "enter b: 0\n",
            "WARNING! Zero division error!\n"
          ]
        }
      ]
    }
  ]
}