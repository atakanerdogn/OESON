{
  "nbformat": 4,
  "nbformat_minor": 0,
  "metadata": {
    "colab": {
      "provenance": [],
      "authorship_tag": "ABX9TyP3wTpb6zEQRrmNPgIdzY9F",
      "include_colab_link": true
    },
    "kernelspec": {
      "name": "python3",
      "display_name": "Python 3"
    },
    "language_info": {
      "name": "python"
    }
  },
  "cells": [
    {
      "cell_type": "markdown",
      "metadata": {
        "id": "view-in-github",
        "colab_type": "text"
      },
      "source": [
        "<a href=\"https://colab.research.google.com/github/atakanerdogn/OESON/blob/main/oeson_python_practice.ipynb\" target=\"_parent\"><img src=\"https://colab.research.google.com/assets/colab-badge.svg\" alt=\"Open In Colab\"/></a>"
      ]
    },
    {
      "cell_type": "code",
      "execution_count": 3,
      "metadata": {
        "colab": {
          "base_uri": "https://localhost:8080/"
        },
        "id": "ys2wb6kBh3Ju",
        "outputId": "f343a9f1-acfc-48a1-f453-48f43fe57e54"
      },
      "outputs": [
        {
          "output_type": "stream",
          "name": "stdout",
          "text": [
            "Enter a number421\n",
            "The number is odd\n"
          ]
        }
      ],
      "source": [
        "#1 find even or odd\n",
        "\n",
        "num = int(input(\"Enter a number: \"))\n",
        "if num % 2 == 0:\n",
        "  print(\"The number is even\")\n",
        "else:\n",
        "  print(\"The number is odd\")"
      ]
    },
    {
      "cell_type": "code",
      "source": [
        "#2 given 3 numbers, find the largest among them\n",
        "\n",
        "num1 = int(input(\"Enter the first: \"))\n",
        "num2 = int(input(\"Enter the second: \"))\n",
        "num3 = int(input(\"Enter the third: \"))\n",
        "\n",
        "if num1 > num2 and num1 > num3:\n",
        "  print(\"The largest number is\", num1)\n",
        "\n",
        "elif num2 > num1 and num2 > num3:\n",
        "  print(\"The largest number is\", num2)\n",
        "\n",
        "else:\n",
        "  print(\"The largest number is\", num3)"
      ],
      "metadata": {
        "colab": {
          "base_uri": "https://localhost:8080/"
        },
        "id": "RI1okyT6iiGQ",
        "outputId": "0bb8b055-1699-41c5-ed76-5dd73d4a0d60"
      },
      "execution_count": 4,
      "outputs": [
        {
          "output_type": "stream",
          "name": "stdout",
          "text": [
            "Enter the first: 2\n",
            "Enter the second: 3\n",
            "Enter the third: 4\n",
            "The largest number is 4\n"
          ]
        }
      ]
    },
    {
      "cell_type": "code",
      "source": [
        "#3 find leap year\n",
        "\n",
        "year = int(input(\"Enter a year: \"))\n",
        "if year % 4 == 0:\n",
        "  print(\"The year is leap year\")\n",
        "elif year % 100 == 0:\n",
        "    print(\"The year is not leap year\")\n",
        "elif year % 400 == 0:\n",
        "      print(\"The year is leap year\")\n",
        "else:\n",
        "      print(\"The year is not leap year\")\n"
      ],
      "metadata": {
        "colab": {
          "base_uri": "https://localhost:8080/"
        },
        "id": "MevrhzJRi80u",
        "outputId": "29ee0fbc-0f06-48be-8125-6f7a94381422"
      },
      "execution_count": 6,
      "outputs": [
        {
          "output_type": "stream",
          "name": "stdout",
          "text": [
            "Enter a year: 2914\n",
            "The year is not leap year\n"
          ]
        }
      ]
    },
    {
      "cell_type": "code",
      "source": [
        "#4 ask user the age and check if they are eligible to vote\n",
        "\n",
        "age = int(input(\"How old are you: \"))\n",
        "\n",
        "if age >= 18:\n",
        "  print(\"You're eligble to vote\")\n",
        "else:\n",
        "  print(\"You are not eligble\")"
      ],
      "metadata": {
        "colab": {
          "base_uri": "https://localhost:8080/"
        },
        "id": "pLyUfIZEjXLM",
        "outputId": "aab7fde6-1c0f-41f3-d01e-9e365420b16d"
      },
      "execution_count": 8,
      "outputs": [
        {
          "output_type": "stream",
          "name": "stdout",
          "text": [
            "How old are you: 18\n",
            "You're eligble to vote\n"
          ]
        }
      ]
    },
    {
      "cell_type": "code",
      "source": [
        "#5 cold <15 moderate 15-30 hot >30\n",
        "\n",
        "T = int(input(\"Enter the temperature: \"))\n",
        "\n",
        "if T < 15:\n",
        "  print(\"Cold\")\n",
        "elif T<30 and T>15:\n",
        "  print(\"moderate\")\n",
        "else:\n",
        "  print(\"hot\")"
      ],
      "metadata": {
        "colab": {
          "base_uri": "https://localhost:8080/"
        },
        "id": "4pf1ctYXkNnb",
        "outputId": "13f8d6fc-6773-4964-ee4e-679b4db67d77"
      },
      "execution_count": 11,
      "outputs": [
        {
          "output_type": "stream",
          "name": "stdout",
          "text": [
            "Enter the temperature: 5\n",
            "Cold\n"
          ]
        }
      ]
    },
    {
      "cell_type": "code",
      "source": [
        "#6+ all even numbers 1-50 using for loop\n",
        "while True:\n",
        " for num in range(1,50):\n",
        "   if num % 2 == 0:\n",
        "     print(f'{num}')\n",
        "   else:\n",
        "    continue\n",
        " break"
      ],
      "metadata": {
        "colab": {
          "base_uri": "https://localhost:8080/"
        },
        "collapsed": true,
        "id": "f4QfUkNakuZQ",
        "outputId": "197b7329-26ce-4bf1-9595-2a9c80ad55c6"
      },
      "execution_count": 17,
      "outputs": [
        {
          "output_type": "stream",
          "name": "stdout",
          "text": [
            "2\n",
            "4\n",
            "6\n",
            "8\n",
            "10\n",
            "12\n",
            "14\n",
            "16\n",
            "18\n",
            "20\n",
            "22\n",
            "24\n",
            "26\n",
            "28\n",
            "30\n",
            "32\n",
            "34\n",
            "36\n",
            "38\n",
            "40\n",
            "42\n",
            "44\n",
            "46\n",
            "48\n"
          ]
        }
      ]
    },
    {
      "cell_type": "code",
      "source": [
        "#7 takes number and prints multiplication table\n",
        "for i in range(10):\n",
        " num = int(input(\"Enter number: \"))\n",
        " result = num * i\n",
        " print(result)"
      ],
      "metadata": {
        "colab": {
          "base_uri": "https://localhost:8080/",
          "height": 371
        },
        "id": "R9wO1rjklhhu",
        "outputId": "ddffc865-8cb2-465a-a3bf-bc740a94c0fc"
      },
      "execution_count": 1,
      "outputs": [
        {
          "output_type": "error",
          "ename": "KeyboardInterrupt",
          "evalue": "Interrupted by user",
          "traceback": [
            "\u001b[0;31m---------------------------------------------------------------------------\u001b[0m",
            "\u001b[0;31mKeyboardInterrupt\u001b[0m                         Traceback (most recent call last)",
            "\u001b[0;32m<ipython-input-1-7ed5b15cf7ea>\u001b[0m in \u001b[0;36m<cell line: 0>\u001b[0;34m()\u001b[0m\n\u001b[1;32m      1\u001b[0m \u001b[0;31m#7 takes number and prints multiplication table\u001b[0m\u001b[0;34m\u001b[0m\u001b[0;34m\u001b[0m\u001b[0m\n\u001b[1;32m      2\u001b[0m \u001b[0;32mfor\u001b[0m \u001b[0mi\u001b[0m \u001b[0;32min\u001b[0m \u001b[0mrange\u001b[0m\u001b[0;34m(\u001b[0m\u001b[0;36m10\u001b[0m\u001b[0;34m)\u001b[0m\u001b[0;34m:\u001b[0m\u001b[0;34m\u001b[0m\u001b[0;34m\u001b[0m\u001b[0m\n\u001b[0;32m----> 3\u001b[0;31m  \u001b[0mnum\u001b[0m \u001b[0;34m=\u001b[0m \u001b[0mint\u001b[0m\u001b[0;34m(\u001b[0m\u001b[0minput\u001b[0m\u001b[0;34m(\u001b[0m\u001b[0;34m\"Enter number: \"\u001b[0m\u001b[0;34m)\u001b[0m\u001b[0;34m)\u001b[0m\u001b[0;34m\u001b[0m\u001b[0;34m\u001b[0m\u001b[0m\n\u001b[0m\u001b[1;32m      4\u001b[0m  \u001b[0mresult\u001b[0m \u001b[0;34m=\u001b[0m \u001b[0mnum\u001b[0m \u001b[0;34m*\u001b[0m \u001b[0mi\u001b[0m\u001b[0;34m\u001b[0m\u001b[0;34m\u001b[0m\u001b[0m\n\u001b[1;32m      5\u001b[0m  \u001b[0mprint\u001b[0m\u001b[0;34m(\u001b[0m\u001b[0mresult\u001b[0m\u001b[0;34m)\u001b[0m\u001b[0;34m\u001b[0m\u001b[0;34m\u001b[0m\u001b[0m\n",
            "\u001b[0;32m/usr/local/lib/python3.11/dist-packages/ipykernel/kernelbase.py\u001b[0m in \u001b[0;36mraw_input\u001b[0;34m(self, prompt)\u001b[0m\n\u001b[1;32m   1175\u001b[0m                 \u001b[0;34m\"raw_input was called, but this frontend does not support input requests.\"\u001b[0m\u001b[0;34m\u001b[0m\u001b[0;34m\u001b[0m\u001b[0m\n\u001b[1;32m   1176\u001b[0m             )\n\u001b[0;32m-> 1177\u001b[0;31m         return self._input_request(\n\u001b[0m\u001b[1;32m   1178\u001b[0m             \u001b[0mstr\u001b[0m\u001b[0;34m(\u001b[0m\u001b[0mprompt\u001b[0m\u001b[0;34m)\u001b[0m\u001b[0;34m,\u001b[0m\u001b[0;34m\u001b[0m\u001b[0;34m\u001b[0m\u001b[0m\n\u001b[1;32m   1179\u001b[0m             \u001b[0mself\u001b[0m\u001b[0;34m.\u001b[0m\u001b[0m_parent_ident\u001b[0m\u001b[0;34m[\u001b[0m\u001b[0;34m\"shell\"\u001b[0m\u001b[0;34m]\u001b[0m\u001b[0;34m,\u001b[0m\u001b[0;34m\u001b[0m\u001b[0;34m\u001b[0m\u001b[0m\n",
            "\u001b[0;32m/usr/local/lib/python3.11/dist-packages/ipykernel/kernelbase.py\u001b[0m in \u001b[0;36m_input_request\u001b[0;34m(self, prompt, ident, parent, password)\u001b[0m\n\u001b[1;32m   1217\u001b[0m             \u001b[0;32mexcept\u001b[0m \u001b[0mKeyboardInterrupt\u001b[0m\u001b[0;34m:\u001b[0m\u001b[0;34m\u001b[0m\u001b[0;34m\u001b[0m\u001b[0m\n\u001b[1;32m   1218\u001b[0m                 \u001b[0;31m# re-raise KeyboardInterrupt, to truncate traceback\u001b[0m\u001b[0;34m\u001b[0m\u001b[0;34m\u001b[0m\u001b[0m\n\u001b[0;32m-> 1219\u001b[0;31m                 \u001b[0;32mraise\u001b[0m \u001b[0mKeyboardInterrupt\u001b[0m\u001b[0;34m(\u001b[0m\u001b[0;34m\"Interrupted by user\"\u001b[0m\u001b[0;34m)\u001b[0m \u001b[0;32mfrom\u001b[0m \u001b[0;32mNone\u001b[0m\u001b[0;34m\u001b[0m\u001b[0;34m\u001b[0m\u001b[0m\n\u001b[0m\u001b[1;32m   1220\u001b[0m             \u001b[0;32mexcept\u001b[0m \u001b[0mException\u001b[0m\u001b[0;34m:\u001b[0m\u001b[0;34m\u001b[0m\u001b[0;34m\u001b[0m\u001b[0m\n\u001b[1;32m   1221\u001b[0m                 \u001b[0mself\u001b[0m\u001b[0;34m.\u001b[0m\u001b[0mlog\u001b[0m\u001b[0;34m.\u001b[0m\u001b[0mwarning\u001b[0m\u001b[0;34m(\u001b[0m\u001b[0;34m\"Invalid Message:\"\u001b[0m\u001b[0;34m,\u001b[0m \u001b[0mexc_info\u001b[0m\u001b[0;34m=\u001b[0m\u001b[0;32mTrue\u001b[0m\u001b[0;34m)\u001b[0m\u001b[0;34m\u001b[0m\u001b[0;34m\u001b[0m\u001b[0m\n",
            "\u001b[0;31mKeyboardInterrupt\u001b[0m: Interrupted by user"
          ]
        }
      ]
    },
    {
      "cell_type": "code",
      "source": [
        "while True:\n",
        "\n",
        " for i in range(10):\n",
        "   n = int(input(\"n: \"))\n",
        "   result = n * i\n",
        "   while True:\n",
        "    # buraya i nin bir seyi gelmesi gerekiyor\n",
        "\n",
        "    print(f'{n} x {i} = {result}')\n",
        "    break\n",
        " break"
      ],
      "metadata": {
        "id": "CUJDxtKTTA1r",
        "outputId": "df405fd2-1686-43d2-c9ee-7cb4c9ae4fed",
        "colab": {
          "base_uri": "https://localhost:8080/"
        }
      },
      "execution_count": null,
      "outputs": [
        {
          "output_type": "stream",
          "name": "stdout",
          "text": [
            "n: 4\n",
            "0\n",
            "4 x 0 = 0\n",
            "n: 5\n",
            "1\n",
            "5 x 1 = 5\n"
          ]
        }
      ]
    },
    {
      "cell_type": "code",
      "source": [
        "#8+ input n, sum of numbers to n\n",
        "\n",
        "n = int(input(\"enter n: \"))\n",
        "sum = n * (n-1) / 2\n",
        "print(\"Sum = \", sum)"
      ],
      "metadata": {
        "colab": {
          "base_uri": "https://localhost:8080/"
        },
        "id": "5ZCecjs7lw5h",
        "outputId": "689868f6-27cc-40d1-abb5-7d5fb7c4d1b1"
      },
      "execution_count": 42,
      "outputs": [
        {
          "output_type": "stream",
          "name": "stdout",
          "text": [
            "enter n: 3\n",
            "Sum =  3.0\n"
          ]
        }
      ]
    },
    {
      "cell_type": "code",
      "source": [
        "#9+ ask a user to enter numbers, till they enter -1, then sum (tam exact degil, )\n",
        "sum = 0\n",
        "while True:\n",
        " num = int(input(\"enter numbers: \"))\n",
        " if num == -1:\n",
        "  print(\"BREAK!\")\n",
        "  break\n",
        " sum = num + sum\n",
        " if sum > 0:\n",
        "  print(\"Sum is\",sum)\n",
        "\n",
        "\n",
        "\n",
        ""
      ],
      "metadata": {
        "colab": {
          "base_uri": "https://localhost:8080/"
        },
        "id": "EQ_fgUp0l5NM",
        "outputId": "d29eb418-bf51-4d9f-bb6f-a6ef8213f33a"
      },
      "execution_count": 2,
      "outputs": [
        {
          "output_type": "stream",
          "name": "stdout",
          "text": [
            "enter numbers: 123\n",
            "Sum is 123\n",
            "enter numbers: 1245\n",
            "Sum is 1368\n",
            "enter numbers: -1\n",
            "BREAK!\n"
          ]
        }
      ]
    },
    {
      "cell_type": "code",
      "source": [
        "#10 fibonacci to n\n",
        "\n",
        "n = int(input(\"Enter n: \"))\n",
        "\n",
        "for i in range(n):\n",
        "  a = 0\n",
        "  b = 1\n",
        "  a = a+b\n",
        "  b = a\n",
        "\n",
        "\n",
        "\n",
        "\n",
        "\n",
        "\n",
        "\n"
      ],
      "metadata": {
        "colab": {
          "base_uri": "https://localhost:8080/"
        },
        "collapsed": true,
        "id": "K5zOUF7hmEnl",
        "outputId": "fb29b563-e698-4964-e9b7-79744e7bd66d"
      },
      "execution_count": 32,
      "outputs": [
        {
          "output_type": "stream",
          "name": "stdout",
          "text": [
            "Enter n: 3\n",
            "2 5\n",
            "2 5\n",
            "2 5\n"
          ]
        }
      ]
    },
    {
      "cell_type": "code",
      "source": [
        "#11+ login system,three attempts if false password print access denied\n",
        " ################################################################\n",
        "\n",
        "password = 1234\n",
        "attempts = 3\n",
        "\n",
        "while True:\n",
        " if guess != 1234:\n",
        "  attempts = attempts - 1\n",
        "\n",
        " guess = int(input(\"Enter password: \"))\n",
        "\n",
        " if guess == 1234:\n",
        "  print(\"Correct\")\n",
        " else:\n",
        "  print(\"Try again\")\n",
        "  print(f'You have {attempts} attempts left!')\n",
        "  ###\n",
        "  if attempts == 0:\n",
        "   print(\"game over! no more guesses!\")\n",
        "   print(\"Exiting\")\n",
        "   break\n",
        "\n",
        "\n",
        "\n"
      ],
      "metadata": {
        "colab": {
          "base_uri": "https://localhost:8080/"
        },
        "id": "qYKazdJ7mImy",
        "outputId": "7eeeccee-ef78-4c2a-d459-6bd7e30dd33c"
      },
      "execution_count": 22,
      "outputs": [
        {
          "output_type": "stream",
          "name": "stdout",
          "text": [
            "Enter password: 1234\n",
            "Correct\n",
            "Enter password: 1234\n",
            "Correct\n",
            "Enter password: 1235\n",
            "Try again\n",
            "You have 2 attempts left!\n",
            "Enter password: 1236\n",
            "Try again\n",
            "You have 1 attempts left!\n",
            "Enter password: 1237\n",
            "Try again\n",
            "You have 0 attempts left!\n",
            "game over! no more guesses!\n",
            "Exiting\n"
          ]
        }
      ]
    },
    {
      "cell_type": "code",
      "source": [
        "#12 find all prime numbers 1-100 using loops\n",
        "\n",
        "for i in range(101):\n",
        "\n",
        "\n",
        "\n"
      ],
      "metadata": {
        "collapsed": true,
        "id": "7YrENeY6mO-Z"
      },
      "execution_count": null,
      "outputs": []
    },
    {
      "cell_type": "code",
      "source": [
        "#13 count the number of digit\n",
        "\n",
        "\n",
        "\n",
        "\n",
        "\n",
        "\n"
      ],
      "metadata": {
        "colab": {
          "base_uri": "https://localhost:8080/",
          "height": 219
        },
        "id": "mhbG8VEZmbNa",
        "outputId": "4d1234fc-0f61-4d4e-8711-031d78563475"
      },
      "execution_count": 25,
      "outputs": [
        {
          "output_type": "error",
          "ename": "KeyboardInterrupt",
          "evalue": "",
          "traceback": [
            "\u001b[0;31m---------------------------------------------------------------------------\u001b[0m",
            "\u001b[0;31mKeyboardInterrupt\u001b[0m                         Traceback (most recent call last)",
            "\u001b[0;32m<ipython-input-25-270406d3922b>\u001b[0m in \u001b[0;36m<cell line: 0>\u001b[0;34m()\u001b[0m\n\u001b[1;32m      1\u001b[0m \u001b[0;31m#13 count the number of digit\u001b[0m\u001b[0;34m\u001b[0m\u001b[0;34m\u001b[0m\u001b[0m\n\u001b[1;32m      2\u001b[0m \u001b[0;34m\u001b[0m\u001b[0m\n\u001b[0;32m----> 3\u001b[0;31m \u001b[0;32mwhile\u001b[0m \u001b[0;32mTrue\u001b[0m\u001b[0;34m:\u001b[0m\u001b[0;34m\u001b[0m\u001b[0;34m\u001b[0m\u001b[0m\n\u001b[0m\u001b[1;32m      4\u001b[0m  \u001b[0mcount\u001b[0m \u001b[0;34m=\u001b[0m \u001b[0;36m0\u001b[0m\u001b[0;34m\u001b[0m\u001b[0;34m\u001b[0m\u001b[0m\n\u001b[1;32m      5\u001b[0m \u001b[0;34m\u001b[0m\u001b[0m\n",
            "\u001b[0;31mKeyboardInterrupt\u001b[0m: "
          ]
        }
      ]
    },
    {
      "cell_type": "code",
      "source": [
        "#14+ ask a user to enter numbers till they enter a non numeric value then error message\n",
        "\n",
        "try:\n",
        " while True:\n",
        "  num = int(input(\"Enter numbers: \"))\n",
        "except:\n",
        "  num =! type('int')\n",
        "  print(\"You have entered a non integer value\")"
      ],
      "metadata": {
        "colab": {
          "base_uri": "https://localhost:8080/"
        },
        "id": "_l5aDWCYmdGt",
        "outputId": "66a7a293-18b8-443a-fd2b-e1ad65ee4053"
      },
      "execution_count": 21,
      "outputs": [
        {
          "output_type": "stream",
          "name": "stdout",
          "text": [
            "Enter numbers: 12\n",
            "Enter numbers: 0\n",
            "Enter numbers: 124\n",
            "Enter numbers: l\n",
            "You have entered a non integer value\n"
          ]
        }
      ]
    },
    {
      "cell_type": "code",
      "source": [
        "#15+ zero division error, error message instead of crashing\n",
        "try:\n",
        " a = int(input(\"enter a: \"))\n",
        " b = int(input(\"enter b: \"))\n",
        " division = a / b\n",
        " print(division)\n",
        "except:\n",
        "  if b == 0:\n",
        "    print(\"WARNING! Zero division error!\")\n",
        "\n"
      ],
      "metadata": {
        "colab": {
          "base_uri": "https://localhost:8080/"
        },
        "id": "x4MH8_XTmr-e",
        "outputId": "1a973926-6cab-4567-fcb5-1cffe3f662a4"
      },
      "execution_count": 19,
      "outputs": [
        {
          "output_type": "stream",
          "name": "stdout",
          "text": [
            "enter a: 12\n",
            "enter b: 0\n",
            "WARNING! Zero division error!\n"
          ]
        }
      ]
    }
  ]
}